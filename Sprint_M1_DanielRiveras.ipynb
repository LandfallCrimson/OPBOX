{
  "nbformat": 4,
  "nbformat_minor": 0,
  "metadata": {
    "colab": {
      "provenance": [],
      "toc_visible": true
    },
    "kernelspec": {
      "name": "python3",
      "display_name": "Python 3"
    },
    "language_info": {
      "name": "python"
    }
  },
  "cells": [
    {
      "cell_type": "markdown",
      "source": [
        "Nombre: Daniel Riveras\n",
        "\n",
        "\n"
      ],
      "metadata": {
        "id": "nhFsI4pSWN_H"
      }
    },
    {
      "cell_type": "markdown",
      "source": [
        "# Instrucciones:"
      ],
      "metadata": {
        "id": "sFe0cXa6R8MO"
      }
    },
    {
      "cell_type": "markdown",
      "source": [
        "\n",
        "Desarrollar un sistema de gestión de inventario que permita a los usuarios agregar, eliminar y\n",
        "actualizar productos en el inventario, así como realizar consultas y generar informes sobre el\n",
        "estado del inventario. El sistema debe estar estructurado utilizando programación orientada a\n",
        "objetos, y debe aplicar buenas prácticas de la industria, como la modularización del código y el\n",
        "manejo de errores y excepciones."
      ],
      "metadata": {
        "id": "Zkd0QiAySxSX"
      }
    },
    {
      "cell_type": "markdown",
      "source": [
        "# Requerimientos"
      ],
      "metadata": {
        "id": "_zhARibkSNLw"
      }
    },
    {
      "cell_type": "markdown",
      "source": [
        "1. Diseñe e implemente una clase **Producto** con los siguientes atributos: **id, nombre, descripción, cantidad y precio**. La clase debe incluir métodos para obtener y modificar la información de los productos.\n",
        "\n",
        "2. Diseñe e implemente una clase **Inventario** que utilice una estructura de datos (por ejemplo, un diccionario) para almacenar objetos de la clase Producto. La clase Inventario debe incluir métodos para realizar las siguientes operaciones:\n",
        "  * Agregar un producto al inventario\n",
        "  * Eliminar un producto del inventario\n",
        "  * Actualizar la información de un producto en el inventario\n",
        "  * Buscar un producto en el inventario por su id\n",
        "  * Listar todos los productos en el inventario, incluyendo información como la\n",
        "cantidad total de productos y el valor total del inventario\n",
        "\n",
        "\n",
        "3. Implemente una menú de usuario que permita a los usuarios interactuar con el\n",
        "sistema de gestión de inventario. El menú de incluir opciones para realizar las\n",
        "diferentes operaciones disponibles en la clase Inventario. Utilice un bucle while y estructuras de control de flujo if-elif-else para manejar las diferentes opciones del\n",
        "menú. (opcional)\n",
        "\n",
        "\n",
        "4. Asegúrese de que el sistema maneje adecuadamente errores y excepciones, como\n",
        "entradas inválidas del usuario o intentos de actualizar o eliminar productos que no existen en el inventario.\n",
        "\n",
        "\n",
        "5. Documente el código utilizando comentarios y docstrings apropiados para facilitar la comprensión y el mantenimiento del software.\n",
        "\n",
        "\n",
        "6. Gestione el código a través de GutHub.-"
      ],
      "metadata": {
        "id": "Tfu5K3h1f0O-"
      }
    },
    {
      "cell_type": "markdown",
      "source": [
        "# Resolución de ejercicio"
      ],
      "metadata": {
        "id": "nDdQOlh9SNcr"
      }
    },
    {
      "cell_type": "markdown",
      "source": [
        "##  Repositorio GIT"
      ],
      "metadata": {
        "id": "4PHf83vAjhWL"
      }
    },
    {
      "cell_type": "markdown",
      "source": [
        "Se creo un repositorio público solo para este item, con este mismo archivo\n",
        "\n",
        "Link: https://github.com/LandfallCrimson/OPBOX.git"
      ],
      "metadata": {
        "id": "G14XvKmHjuc5"
      }
    },
    {
      "cell_type": "markdown",
      "source": [
        "##  Clase Producto"
      ],
      "metadata": {
        "id": "rH7BB7dTg29y"
      }
    },
    {
      "cell_type": "code",
      "source": [
        "class Producto:\n",
        "    def __init__(self, id, nombre, descripcion, cantidad, precio):\n",
        "        self.id = id\n",
        "        self.nombre = nombre\n",
        "        self.descripcion = descripcion\n",
        "        self.cantidad = cantidad\n",
        "        self.precio = precio\n",
        "\n",
        "    # Funcion para devolver un diccionado de datos con la info del producto\n",
        "    def obtener_informacion(self):\n",
        "        return {\n",
        "            \"ID\": self.id,\n",
        "            \"Nombre\": self.nombre,\n",
        "            \"Descripción\": self.descripcion,\n",
        "            \"Cantidad\": self.cantidad,\n",
        "            \"Precio\": self.precio\n",
        "        }\n",
        "\n",
        "    # Modifica la información del producto\n",
        "    def modificar_informacion(self, n_info):\n",
        "        for atr, valor in n_info.items():\n",
        "            # Hasattr: Bool verifica el contenido del atributo contra el dato ingresado\n",
        "            if hasattr(self, atr):\n",
        "                # Setsattr: Modifica el atributo del producto con el dato ingresado\n",
        "                setattr(self, atr, valor)\n",
        "            else:\n",
        "                raise ValueError(f\"El atributo '{atr}' no existe en el producto.\")"
      ],
      "metadata": {
        "id": "tA-a-gpPXcUQ"
      },
      "execution_count": 5,
      "outputs": []
    },
    {
      "cell_type": "markdown",
      "source": [
        "## Clase Inventario\n"
      ],
      "metadata": {
        "id": "XptZk7djSNjY"
      }
    },
    {
      "cell_type": "code",
      "source": [
        "class Inventario:\n",
        "    def __init__(self):\n",
        "        self.productos = {}\n",
        "\n",
        "    # Agrega Producto\n",
        "    def agregar_producto(self, producto):\n",
        "        # Sí existe no se crea, lanza error\n",
        "        if producto.id in self.productos:\n",
        "            raise ValueError(\"El producto ya existe en el inventario.\")\n",
        "        self.productos[producto.id] = producto\n",
        "        print(\"Producto agregado correctamente.\")\n",
        "\n",
        "    # Eliminar Producto\n",
        "    def eliminar_producto(self, id_prod):\n",
        "        # Se trata de eliminar en caso que no exista lanzara error\n",
        "        try:\n",
        "            del self.productos[id_prod]\n",
        "            print(\"Producto eliminado correctamente.\")\n",
        "        except KeyError:\n",
        "            raise KeyError(\"El producto no existe en el inventario.\")\n",
        "\n",
        "    # Actualizar Producto\n",
        "    def actualizar_producto(self, id_prod, n_info):\n",
        "        # Si existe modifica, si no lanza error\n",
        "        if id_prod in self.productos:\n",
        "            producto = self.productos[id_prod]\n",
        "            producto.modificar_informacion(n_info)\n",
        "            print(\"Producto actualizado correctamente.\")\n",
        "        else:\n",
        "            raise KeyError(\"El producto no existe en el inventario.\")\n",
        "\n",
        "    # Buscar Producto\n",
        "    def buscar_producto(self, id_prod):\n",
        "        # Busca producto, si no existe lanza error\n",
        "        try:\n",
        "            producto = self.productos[id_producto]\n",
        "            print(producto.obtener_informacion())\n",
        "        except KeyError:\n",
        "            raise KeyError(\"El producto no existe en el inventario.\")\n",
        "\n",
        "    # Listar Producto\n",
        "    def listar_productos(self):\n",
        "        # Si no existe data termina la consulta\n",
        "        if not self.productos:\n",
        "            print(\"No hay productos en el inventario.\")\n",
        "            return\n",
        "        # Obtengo la cantidad total de los productos\n",
        "        total_cantidad = sum(producto.cantidad for producto in self.productos.values())\n",
        "        # Obtengo el precio total de los productos\n",
        "        total_valor = sum(producto.cantidad * producto.precio for producto in self.productos.values())\n",
        "        print(\"Productos en el inventario:\")\n",
        "        # Se recorre los productos\n",
        "        for producto in self.productos.values():\n",
        "            # Se imprimen los productos\n",
        "            print(producto.obtener_informacion())\n",
        "        print(f\"Total de productos: {total_cantidad}\")\n",
        "        print(f\"Valor total del inventario: {total_valor}\")"
      ],
      "metadata": {
        "id": "8SwJxkXRXdG3"
      },
      "execution_count": 6,
      "outputs": []
    },
    {
      "cell_type": "markdown",
      "source": [
        "## Función de Menu e Instancia de inventario"
      ],
      "metadata": {
        "id": "BEuEMQ5USNqd"
      }
    },
    {
      "cell_type": "code",
      "source": [
        "def mostrar_menu():\n",
        "    print(\"\\n----****----\")\n",
        "    print(\"Menú de opciones:\")\n",
        "    print(\"1. Agregar producto\")\n",
        "    print(\"2. Eliminar producto\")\n",
        "    print(\"3. Actualizar producto\")\n",
        "    print(\"4. Buscar producto por ID\")\n",
        "    print(\"5. Listar todos los productos\")\n",
        "    print(\"6. Salir\")\n",
        "\n",
        "# Crear una instancia de Inventario\n",
        "inventario = Inventario()"
      ],
      "metadata": {
        "id": "DpNEvp-dhnnh"
      },
      "execution_count": 7,
      "outputs": []
    },
    {
      "cell_type": "markdown",
      "source": [
        "## Ejecución de Programa (Main)"
      ],
      "metadata": {
        "id": "p16-pg2Kh1P_"
      }
    },
    {
      "cell_type": "markdown",
      "source": [
        "Información de datos:\n",
        "\n",
        "*   id_producto = str\n",
        "*   nombre = str\n",
        "*   descripcion = str\n",
        "*   cantidad = int\n",
        "*   precio = float\n"
      ],
      "metadata": {
        "id": "I4hO9pquiRKd"
      }
    },
    {
      "cell_type": "code",
      "source": [
        "# Inicio del programa\n",
        "while True:\n",
        "    mostrar_menu()\n",
        "    opcion = input(\"Seleccione una opción: \")\n",
        "\n",
        "    # Agregar producto\n",
        "    if opcion == \"1\":\n",
        "        try:\n",
        "            # Solicitar datos al usuario, se solicita afuera para controlar el error de ingreso de datos\n",
        "            id_producto = input(\"Ingrese el ID del producto: \")\n",
        "            nombre = input(\"Ingrese el nombre del producto: \")\n",
        "            descripcion = input(\"Ingrese la descripción del producto: \")\n",
        "            cantidad = int(input(\"Ingrese la cantidad del producto: \"))\n",
        "            precio = float(input(\"Ingrese el precio del producto: \"))\n",
        "\n",
        "            # Crear Producto\n",
        "            nuevo_producto = Producto(id_producto, nombre, descripcion, cantidad, precio)\n",
        "\n",
        "            # Agregar Producto a inventario\n",
        "            inventario.agregar_producto(nuevo_producto)\n",
        "        # Imprime errores pero no bota el programa, para repetir el ciclo\n",
        "        except ValueError as e:\n",
        "            print(\"Error:\", e)\n",
        "\n",
        "    # Eliminar producto\n",
        "    elif opcion == \"2\":\n",
        "        try:\n",
        "            # Solicitar datos al usuario, se solicita afuera para controlar el error de ingreso de datos\n",
        "            id_producto = input(\"Ingrese el ID del producto a eliminar: \")\n",
        "            inventario.eliminar_producto(id_producto)\n",
        "        # Imprime errores pero no bota el programa, para repetir el ciclo\n",
        "        except KeyError as e:\n",
        "            print(\"Error:\", e)\n",
        "\n",
        "    # Actualizar producto\n",
        "    elif opcion == \"3\":\n",
        "        try:\n",
        "            # Solicitar datos al usuario, se solicita afuera para controlar el error de ingreso de datos\n",
        "            id_producto = input(\"Ingrese el ID del producto a actualizar: \")\n",
        "\n",
        "            # Se genera un diccionario de datos con la nueva informacion para cambiar dentro de la función\n",
        "            nueva_informacion = {'nombre': input(\"Ingrese el nuevo nombre del producto: \"),\n",
        "                                 'descripcion': input(\"Ingrese la nueva descripción del producto: \"),\n",
        "                                 'cantidad': int(input(\"Ingrese la nueva cantidad del producto: \")),\n",
        "                                 'precio': float(input(\"Ingrese el nuevo precio del producto: \"))}\n",
        "            inventario.actualizar_producto(id_producto, nueva_informacion)\n",
        "\n",
        "        # Imprime errores pero no bota el programa, para repetir el ciclo\n",
        "        except (KeyError, ValueError) as e:\n",
        "            print(\"Error:\", e)\n",
        "\n",
        "    # Buscar producto por ID\n",
        "    elif opcion == \"4\":\n",
        "        try:\n",
        "            # Solicitar datos al usuario, se solicita afuera para controlar el error de ingreso de datos\n",
        "            id_producto = input(\"Ingrese el ID del producto a buscar: \")\n",
        "            inventario.buscar_producto(id_producto)\n",
        "\n",
        "        # Imprime errores pero no bota el programa, para repetir el ciclo\n",
        "        except KeyError as e:\n",
        "            print(\"Error:\", e)\n",
        "\n",
        "    # Listar todos los productos\n",
        "    elif opcion == \"5\":\n",
        "        # Ejecuta funcion de listar\n",
        "        inventario.listar_productos()\n",
        "\n",
        "    # Salir\n",
        "    elif opcion == \"6\":\n",
        "        # Se termina el while con el break\n",
        "        print(\"Saliendo del programa.\")\n",
        "        break\n",
        "\n",
        "    # Errores de selección de Menu\n",
        "    else:\n",
        "        print('\\n -- ERROR. Por favor, seleccione una opción válida. -- \\n')"
      ],
      "metadata": {
        "id": "nHHKbg26Xds2",
        "colab": {
          "base_uri": "https://localhost:8080/"
        },
        "outputId": "75e7d6eb-de4b-4103-e9a1-20c38ed006b3"
      },
      "execution_count": 8,
      "outputs": [
        {
          "output_type": "stream",
          "name": "stdout",
          "text": [
            "\n",
            "----****----\n",
            "Menú de opciones:\n",
            "1. Agregar producto\n",
            "2. Eliminar producto\n",
            "3. Actualizar producto\n",
            "4. Buscar producto por ID\n",
            "5. Listar todos los productos\n",
            "6. Salir\n",
            "Seleccione una opción: 1\n",
            "Ingrese el ID del producto: 1\n",
            "Ingrese el nombre del producto: mazana\n",
            "Ingrese la descripción del producto: fruta\n",
            "Ingrese la cantidad del producto: 10\n",
            "Ingrese el precio del producto: 50\n",
            "Producto agregado correctamente.\n",
            "\n",
            "----****----\n",
            "Menú de opciones:\n",
            "1. Agregar producto\n",
            "2. Eliminar producto\n",
            "3. Actualizar producto\n",
            "4. Buscar producto por ID\n",
            "5. Listar todos los productos\n",
            "6. Salir\n",
            "Seleccione una opción: 4\n",
            "Ingrese el ID del producto a buscar: 1\n",
            "{'ID': '1', 'Nombre': 'mazana', 'Descripción': 'fruta', 'Cantidad': 10, 'Precio': 50.0}\n",
            "\n",
            "----****----\n",
            "Menú de opciones:\n",
            "1. Agregar producto\n",
            "2. Eliminar producto\n",
            "3. Actualizar producto\n",
            "4. Buscar producto por ID\n",
            "5. Listar todos los productos\n",
            "6. Salir\n",
            "Seleccione una opción: 3\n",
            "Ingrese el ID del producto a actualizar: 1\n",
            "Ingrese el nuevo nombre del producto: manzana\n",
            "Ingrese la nueva descripción del producto: fruta\n",
            "Ingrese la nueva cantidad del producto: 10\n",
            "Ingrese el nuevo precio del producto: 50\n",
            "Producto actualizado correctamente.\n",
            "\n",
            "----****----\n",
            "Menú de opciones:\n",
            "1. Agregar producto\n",
            "2. Eliminar producto\n",
            "3. Actualizar producto\n",
            "4. Buscar producto por ID\n",
            "5. Listar todos los productos\n",
            "6. Salir\n",
            "Seleccione una opción: 1\n",
            "Ingrese el ID del producto: 1\n",
            "Ingrese el nombre del producto: naranja\n",
            "Ingrese la descripción del producto: fruta\n",
            "Ingrese la cantidad del producto: 15\n",
            "Ingrese el precio del producto: 10\n",
            "Error: El producto ya existe en el inventario.\n",
            "\n",
            "----****----\n",
            "Menú de opciones:\n",
            "1. Agregar producto\n",
            "2. Eliminar producto\n",
            "3. Actualizar producto\n",
            "4. Buscar producto por ID\n",
            "5. Listar todos los productos\n",
            "6. Salir\n",
            "Seleccione una opción: 1\n",
            "Ingrese el ID del producto: 2\n",
            "Ingrese el nombre del producto: naranja\n",
            "Ingrese la descripción del producto: fruta\n",
            "Ingrese la cantidad del producto: 15\n",
            "Ingrese el precio del producto: 10\n",
            "Producto agregado correctamente.\n",
            "\n",
            "----****----\n",
            "Menú de opciones:\n",
            "1. Agregar producto\n",
            "2. Eliminar producto\n",
            "3. Actualizar producto\n",
            "4. Buscar producto por ID\n",
            "5. Listar todos los productos\n",
            "6. Salir\n",
            "Seleccione una opción: 5\n",
            "Productos en el inventario:\n",
            "{'ID': '1', 'Nombre': 'manzana', 'Descripción': 'fruta', 'Cantidad': 10, 'Precio': 50.0}\n",
            "{'ID': '2', 'Nombre': 'naranja', 'Descripción': 'fruta', 'Cantidad': 15, 'Precio': 10.0}\n",
            "Total de productos: 25\n",
            "Valor total del inventario: 650.0\n",
            "\n",
            "----****----\n",
            "Menú de opciones:\n",
            "1. Agregar producto\n",
            "2. Eliminar producto\n",
            "3. Actualizar producto\n",
            "4. Buscar producto por ID\n",
            "5. Listar todos los productos\n",
            "6. Salir\n",
            "Seleccione una opción: 2\n",
            "Ingrese el ID del producto a eliminar: 3\n",
            "Error: 'El producto no existe en el inventario.'\n",
            "\n",
            "----****----\n",
            "Menú de opciones:\n",
            "1. Agregar producto\n",
            "2. Eliminar producto\n",
            "3. Actualizar producto\n",
            "4. Buscar producto por ID\n",
            "5. Listar todos los productos\n",
            "6. Salir\n",
            "Seleccione una opción: 2\n",
            "Ingrese el ID del producto a eliminar: 2\n",
            "Producto eliminado correctamente.\n",
            "\n",
            "----****----\n",
            "Menú de opciones:\n",
            "1. Agregar producto\n",
            "2. Eliminar producto\n",
            "3. Actualizar producto\n",
            "4. Buscar producto por ID\n",
            "5. Listar todos los productos\n",
            "6. Salir\n",
            "Seleccione una opción: 5\n",
            "Productos en el inventario:\n",
            "{'ID': '1', 'Nombre': 'manzana', 'Descripción': 'fruta', 'Cantidad': 10, 'Precio': 50.0}\n",
            "Total de productos: 10\n",
            "Valor total del inventario: 500.0\n",
            "\n",
            "----****----\n",
            "Menú de opciones:\n",
            "1. Agregar producto\n",
            "2. Eliminar producto\n",
            "3. Actualizar producto\n",
            "4. Buscar producto por ID\n",
            "5. Listar todos los productos\n",
            "6. Salir\n",
            "Seleccione una opción: 4\n",
            "Ingrese el ID del producto a buscar: 2\n",
            "Error: 'El producto no existe en el inventario.'\n",
            "\n",
            "----****----\n",
            "Menú de opciones:\n",
            "1. Agregar producto\n",
            "2. Eliminar producto\n",
            "3. Actualizar producto\n",
            "4. Buscar producto por ID\n",
            "5. Listar todos los productos\n",
            "6. Salir\n",
            "Seleccione una opción: 2\n",
            "Ingrese el ID del producto a eliminar: 1\n",
            "Producto eliminado correctamente.\n",
            "\n",
            "----****----\n",
            "Menú de opciones:\n",
            "1. Agregar producto\n",
            "2. Eliminar producto\n",
            "3. Actualizar producto\n",
            "4. Buscar producto por ID\n",
            "5. Listar todos los productos\n",
            "6. Salir\n",
            "Seleccione una opción: 4\n",
            "Ingrese el ID del producto a buscar: 1\n",
            "Error: 'El producto no existe en el inventario.'\n",
            "\n",
            "----****----\n",
            "Menú de opciones:\n",
            "1. Agregar producto\n",
            "2. Eliminar producto\n",
            "3. Actualizar producto\n",
            "4. Buscar producto por ID\n",
            "5. Listar todos los productos\n",
            "6. Salir\n",
            "Seleccione una opción: 5\n",
            "No hay productos en el inventario.\n",
            "\n",
            "----****----\n",
            "Menú de opciones:\n",
            "1. Agregar producto\n",
            "2. Eliminar producto\n",
            "3. Actualizar producto\n",
            "4. Buscar producto por ID\n",
            "5. Listar todos los productos\n",
            "6. Salir\n",
            "Seleccione una opción: 6\n",
            "Saliendo del programa.\n"
          ]
        }
      ]
    }
  ]
}